{
 "cells": [
  {
   "attachments": {},
   "cell_type": "markdown",
   "metadata": {},
   "source": [
    "**FSG 2023 Scoring calculation notebook**\n",
    "\n",
    "Creator: Kevin Schmidt Kevin.Schmidt@kthformulastudent.se\n",
    "\n",
    "Version: 0.1 (Statics missing, Dynamic calculators need to be validated)"
   ]
  },
  {
   "cell_type": "code",
   "execution_count": null,
   "metadata": {},
   "outputs": [],
   "source": [
    "import math"
   ]
  },
  {
   "cell_type": "code",
   "execution_count": null,
   "metadata": {},
   "outputs": [],
   "source": [
    "# PARCOUR! (calculate your own stuff here)\n"
   ]
  },
  {
   "attachments": {},
   "cell_type": "markdown",
   "metadata": {},
   "source": [
    "# Dynamics Calculators\n",
    "\n",
    "*Please note that penalties are not included in the calculations and have to be added manually when entering the corrected times. As a Quick access, I've compiled the penalty rules from the FSG 2023 rules in the following cells of this notebook!* "
   ]
  },
  {
   "attachments": {},
   "cell_type": "markdown",
   "metadata": {},
   "source": [
    "## D 9 DYNAMIC EVENTS PENALTIES\n"
   ]
  },
  {
   "cell_type": "markdown",
   "metadata": {},
   "source": [
    "\n",
    "**D 9.1** General Penalties\n",
    "\n",
    "**D 9.1.1** Penalties will not be assessed for accident avoidance or other reasons deemed sufficient by the officials.\n",
    "\n",
    "**D 9.1.2** A cone is Down or Out (DOO) if the cone has been knocked over or the entire base of the cone lies outside the box marked around the cone in its undisturbed position.\n",
    "\n",
    "**D 9.1.3** Cones that are DOO are not replaced/reset during autonomous running. There will be no re-run due to cones in the driving path or disorientation due to missing cones.\n",
    "\n",
    "**D 9.1.4** The DOO penalty (see D 9.1.7) is added for each DOO including entry and exit gate cones before the start and after the finish line, that occur on that particular run.\n",
    "\n",
    "**D 9.1.5** Off-course (OC)\n",
    "- An OC occurs when the vehicle has all four wheels outside the track boundary as\n",
    "indicated by edge marking.\n",
    "- Missing one or more gates of a given slalom at autocross or endurance is counted as one OC per occurrence.\n",
    "- When an OC occurs, the driver must re-enter the track at the next possible point.\n",
    "- When re-entering the driver needs to wait for a gap and follow the instructions of the track marshals.\n",
    "\n",
    "**D 9.1.6** An Unsafe Stop (USS) is defined as not stopping within the specified area and/or not entering the finish-state described in T 14.10 during autonomous running.\n",
    "\n",
    "**D 9.1.7**\n",
    "|     | Acceleration | Skidpad | Autocross | Endurance | Trackdrive |\n",
    "| --- | ------------ | ------- | --------- | --------- | ---------- |\n",
    "| DOO | 2s           | 0.2s    | 2s        | 2s        | 2s         |\n",
    "| OC  | DNF          | DNF     | 10s       | 10s       | 10s        | \n",
    "| USS | DNF          | DNF     | DNF       | n/a       | -50 points |\n",
    "\n",
    "**D 9.1.8** DNF equals zero points for that run.\n",
    "\n",
    "**D 9.1.9** DQ equals zero points for that run.\n",
    "\n",
    "**D 9.1.10** If a team Did Not Attempt (DNA) an event the score is zero points.\n",
    "\n",
    "**D 9.1.11** Each run with an incorrect number of laps at skidpad is classified as DNF.\n",
    "\n",
    "**D 9.1.12** Failure to obey a flag: one minute time penalty.\n",
    "\n",
    "**D 9.1.13** Reckless or aggressive driving or “Over Driving”: black flag (see D 2 1.3)\n",
    "\n",
    "**D 9.1.14** Vehicle to vehicle contact: Two minutes up to disqualification depending on the nature of the incident.\n",
    "\n",
    "**D 9.1.15** If a vehicle stalls before passing the finish line and cannot restart without external assistance, the vehicle is DNF for that run.\n",
    "\n",
    "**D 9.1.16** If a vehicle is not able to start the run, within 30 s after receiving a green flag or go-signal, the vehicle is DQ for that run.\n",
    "\n",
    "**D 9.2** Endurance Penalties\n",
    "\n",
    "**D 9.2.1** Teams that are running out-of-order as defined in the competition handbook, are penalized by two minutes and may then run at the discretion of the officials.\n",
    "\n",
    "**D 9.2.2** Mechanical Problem: The time taken for mechanical inspection under a  “mechanical black flag” (see D 2.1.4) is considered officials’ time and is not included in the team’s total time. If the inspection reveals a mechanical integrity problem the vehicle is scored DNF.\n",
    "\n",
    "**D 9.2.3** If it is impossible to impose a penalty by a stop under a black flag, e.g. not enough laps left,\n",
    "the officials may add an appropriate time penalty to the team’s elapsed time.\n",
    "\n",
    "**D 9.2.4** A team may receive a DNF if their vehicle is too slow or being driven without proper control.\n",
    "\n",
    "**D 9.2.5** Any violation to the procedure of driver change (D 7.5.3) will lead to a time penalty of up to two minutes.\n",
    "\n",
    "**D 9.3** [CV ONLY] Efficiency Penalties\n",
    "\n",
    "**D 9.3.1** Should the fuel level change after refueling due to effects such as described in CV 2.7.1, then the difference in fuel level will be measured and twice the amount will be added to the official fuel consumption figure.\n",
    "\n",
    "**D 9.4** [EV ONLY] Power and Voltage Violation Penalties\n",
    "\n",
    "**D 9.4.1** A violation is defined as using more than the maximum power, see EV 2 2, or exceeding the specified voltage, see EV 4.1.1, after a moving average over 500 ms is applied to the respective data logger signal, see EV 4.6.\n",
    "\n",
    "**D 9.4.2** Each violation is a DQ for the fastest run of the event. If a violation occurred during two runs, the two fastest runs will be DQ etc. .\n",
    "\n",
    "**D 9.4.3** The respective data and the resulting decision of violations may be made public.\n",
    "\n",
    "**D 9.4.4** Non-availability of data logger data will be treated as a violation.\n"
   ]
  },
  {
   "attachments": {},
   "cell_type": "markdown",
   "metadata": {},
   "source": [
    "## EV"
   ]
  },
  {
   "attachments": {},
   "cell_type": "markdown",
   "metadata": {},
   "source": [
    "### EV Skidpad **D 4.4**\n",
    "\n",
    "**D 4.4.1** The run time is the average time of the timed left and the timed right circle plus penalties which are added after the averaging.\n",
    "\n",
    "**D 4.4.2** 3.5 points are awarded to every team that finishes at least one run without DNF or DQ."
   ]
  },
  {
   "cell_type": "code",
   "execution_count": null,
   "metadata": {},
   "outputs": [],
   "source": [
    "# D 4.4.3 If a team’s best manual mode time including penalties is below T_max\n",
    "\n",
    "# --- INSERT HERE --- #\n",
    "T_team = 0            # the team's best manual mode time incl. penalties\n",
    "T_max  = 0 * 1.25     # 1.25 times the time of the fastest manual mode vehicle incl. penalties \n",
    "# ------------------- #\n",
    "\n",
    "if (T_team < T_max):\n",
    "    score = 46.5*(((T_max/T_team)**2-1.0)/0.5625) + 3.5\n",
    "else:\n",
    "    score = 3.5\n",
    "print(score)"
   ]
  },
  {
   "attachments": {},
   "cell_type": "markdown",
   "metadata": {},
   "source": [
    "### EV Acceleration **D 5.4**\n",
    "\n",
    "**D 5.4.1** 3.5 points are awarded to every team that finishes at least one manual mode run without a DNF or DQ."
   ]
  },
  {
   "cell_type": "code",
   "execution_count": null,
   "metadata": {},
   "outputs": [],
   "source": [
    "# D 5.4.2 If a team’s best manual mode time including penalties is below T_max\n",
    "\n",
    "# --- INSERT HERE --- #\n",
    "T_team = 0            # the team’s best manual mode time including penalties\n",
    "T_max  = 0 * 1.5      # 1.5 times the time of the fastest manual mode vehicle including penalties\n",
    "# ------------------- #\n",
    "\n",
    "if (T_team < T_max):\n",
    "    score = 46.5*((((T_max)/T_team)-1)/0.5) + 3.5\n",
    "else:\n",
    "    score = 3.5\n",
    "print(score)"
   ]
  },
  {
   "attachments": {},
   "cell_type": "markdown",
   "metadata": {},
   "source": [
    "### EV Auto-Cross **D 6.3**\n",
    "\n",
    "**D 6.3.1 4.5** points are awarded to every team that finishes at least one run without DNF or DQ."
   ]
  },
  {
   "cell_type": "code",
   "execution_count": null,
   "metadata": {},
   "outputs": [],
   "source": [
    "# D 6.3.2 If a team’s corrected elapsed time is below T_max\n",
    "\n",
    "# --- INSERT HERE --- #\n",
    "T_team = 0            # the team’s best time including penalties.\n",
    "t_max  = 0 * 1.25     # is 1.25 times the time of the fastest vehicle including penalties\n",
    "# ------------------- #\n",
    "\n",
    "if (T_team < T_max):\n",
    "    score = 95.5*((((T_max)/T_team)-1)/0.25) + 4.5\n",
    "else:\n",
    "    score = 4.5\n",
    "print(score)"
   ]
  },
  {
   "attachments": {},
   "cell_type": "markdown",
   "metadata": {},
   "source": [
    "### EV Endurance **D 7.8**\n",
    "\n",
    "**D 7.8.1** Each lap of the endurance event is individually timed. The corrected elapsed time is determined by subtracting the extra-long lap for the driver change from the total time and adding any penalty times.\n",
    "\n",
    "**D 7.8.2** The post event technical inspection (see IN 12) must be passed to score points in the endurance event.\n",
    "\n",
    "**D 7.8.3** 25 points are awarded to every team that finishes endurance without DNF or DQ."
   ]
  },
  {
   "cell_type": "code",
   "execution_count": null,
   "metadata": {},
   "outputs": [],
   "source": [
    "# D 7.8.4 If a team’s corrected elapsed time is below T_max\n",
    "\n",
    "# --- INSERT HERE --- #\n",
    "T_team = 0            # the team’s corrected elapsed time\n",
    "t_max  = 0 * 1.333    # 1.333 times of the corrected elapsed time of the fastest vehicle\n",
    "# ------------------- #\n",
    "\n",
    "if (T_team < T_max):\n",
    "    score = 225*((((T_max)/T_team)-1)/0.333) + 25\n",
    "else:\n",
    "    score = 25\n",
    "print(score)"
   ]
  },
  {
   "attachments": {},
   "cell_type": "markdown",
   "metadata": {},
   "source": [
    "### EV Efficiency (Endurance) **D 7.9**\n",
    "\n",
    "**D 7.9.2** Only vehicles which meet all of the following requirements are considered for efficiency scoring:\n",
    "- the vehicle received points for the endurance event\n",
    "- the uncorrected elapsed endurance time does not exceed 1.333 times the uncorrected elapsed time of the fastest vehicle\n",
    "- [CV ONLY] the consumed fuel mass does not exceed 15 kg/100 km 98 RON or 21.75 kg/100km E85\n",
    "\n",
    "**D 7.9.3** [CV ONLY] Fuel pumps must be on and fuel valves must be opened during refueling.\n",
    "\n",
    "**D 7.9.4** [CV ONLY] The measured fuel mass of vehicles using E85 fuel is divided by 1.45 to be comparable to the vehicles using 98 RON.\n",
    "\n",
    "**D 7.9.5** [EV ONLY] The endurance energy is calculated as the time integrated value of the measured voltage multiplied by the measured current logged by the data logger, see EV 4.6. Regenerated energy is multiplied by 0.9 and subtracted from the used energy."
   ]
  },
  {
   "cell_type": "code",
   "execution_count": null,
   "metadata": {},
   "outputs": [],
   "source": [
    "# D 7.9.6\n",
    "\n",
    "# --- INSERT HERE --- #\n",
    "T_team   = 0          # !UNCORRECTED! elapsed driving time\n",
    "E_team   = 0          # [CV ONLY] corrected used fuel mass / [EV ONLY] used energy\n",
    "                      #\n",
    "# T_min  = 0          # UNCOMMENT IF NEEDED\n",
    "# E_min  = 0          # UNCOMMENT IF NEEDED\n",
    "EF_min   = 0          # the lowest efficiency factor of all teams which were considered for efficiency\n",
    "# ------------------- #\n",
    "\n",
    "EF_team = (T_team)**2 * E_team  # the team’s efficiency factor\n",
    "EF_max  = EF_min * 1.5          # is defined as 1.5 * EF_min\n",
    "\n",
    "75*((EF_max-EF_team)/(EF_max-EF_min))"
   ]
  },
  {
   "attachments": {},
   "cell_type": "markdown",
   "metadata": {},
   "source": [
    "## DV"
   ]
  },
  {
   "attachments": {},
   "cell_type": "markdown",
   "metadata": {},
   "source": [
    "### DV Skidpad **D 4.5**\n",
    "\n",
    "**D 4.5.1 & D 4.4.1** The run time is the average time of the timed left and the timed right circle plus penalties which are added after the averaging.\n",
    "\n",
    "**D 4.5.2** Runs with a run time without penalties >25 s will be DQ."
   ]
  },
  {
   "cell_type": "code",
   "execution_count": null,
   "metadata": {},
   "outputs": [],
   "source": [
    "# D 4.5.3 (If a team that finishes at least one driverless run without a DNF or DQ)\n",
    "\n",
    "# --- INSERT HERE --- #\n",
    "N_all      = 0        # the ranking of team’s best driverless time including penalties within the best driverless times including penalties of all other teams\n",
    "R_DV_team  = 0        # the number of teams who finished at least one manual or driverless run without DNF or DQ\n",
    "# ------------------- #\n",
    "\n",
    "score = 75*((N_all + 1 - R_DV_team)/N_all)"
   ]
  },
  {
   "attachments": {},
   "cell_type": "markdown",
   "metadata": {},
   "source": [
    "### Driverless Cup Skidpad Scoring D 4.6\n",
    "\n",
    "**D 4.6.1 & D 4.4.1** The run time is the average time of the timed left and the timed right circle plus penalties which are added after the averaging.\n",
    "\n",
    "**D 4.6.2** The score for the DC skidpad is calculated using the runs scored for the driverless skidpad.\n",
    "\n",
    "**D 4.6.3** 3.5 points are awarded to every team that finishes at least one run without DNF or DQ."
   ]
  },
  {
   "cell_type": "code",
   "execution_count": null,
   "metadata": {},
   "outputs": [],
   "source": [
    "# D4.6.4 If a team’s run time including penalties is below T_max\n",
    "\n",
    "# --- INSERT HERE --- #\n",
    "T_team = 0            # the team’s best driverless run time incl. penalties\n",
    "T_max  = 0 * 1.5      # 1.5 times the time of the fastest driverless run of all teams including penalties \n",
    "# ------------------- #\n",
    "\n",
    "if (T_team < t_max):\n",
    "    score = 46.5*(((T_max/T_team)**2-1.0)/0.5625) + 3.5\n",
    "else:\n",
    "    score = 3.5\n",
    "print(score)"
   ]
  },
  {
   "attachments": {},
   "cell_type": "markdown",
   "metadata": {},
   "source": [
    "### DV Acceleration D 5.5\n",
    "\n",
    "**D 5.5.1** Runs with a time without penalties >25 s will be DQ"
   ]
  },
  {
   "cell_type": "code",
   "execution_count": null,
   "metadata": {},
   "outputs": [],
   "source": [
    "# D 5.5.2 If a team that finishes at least one driverless run without a DNF or DQ\n",
    "\n",
    "# --- INSERT HERE --- #\n",
    "N_all      = 0        # the ranking of team’s best driverless time including penalties within the best driverless times including penalties of all other teams\n",
    "R_DV_team  = 0        # the number of teams who finished at least one manual or driverless run without DNF or DQ\n",
    "T_raw      = 0        # uncorrected accel time (without penalties)\n",
    "# ------------------- #\n",
    "\n",
    "if (T_raw < 25):\n",
    "    score = 75*((N_all + 1 - R_DV_team)/N_all)\n",
    "    print(score)\n",
    "else:\n",
    "    print(\"DQ!\")\n"
   ]
  },
  {
   "attachments": {},
   "cell_type": "markdown",
   "metadata": {},
   "source": [
    "### Driverless Cup Acceleration Scoring D 5.6\n",
    "\n",
    "**D 5.6.1** The score for the DC acceleration is calculated using the runs scored for the driverless acceleration.\n",
    "\n",
    "**D 5.6.2** 3.5 points are awarded to every team that finishes at least one driverless run without a DNF or DQ."
   ]
  },
  {
   "cell_type": "code",
   "execution_count": null,
   "metadata": {},
   "outputs": [],
   "source": [
    "# D 5.6.2 If a team’s run time including penalties is below T_max\n",
    "\n",
    "# --- INSERT HERE --- #\n",
    "T_team = 0            # the team’s best DV time incl. penalties\n",
    "T_max  = 0 * 2.0      # 2 times the time of the fastest DV vehicle incl. penalties \n",
    "# ------------------- #\n",
    "\n",
    "if (T_team < T_max):\n",
    "    score = 71.5*((t_max/T_team)-1) + 3.5\n",
    "else:\n",
    "    score = 3.5\n",
    "print(score)"
   ]
  },
  {
   "attachments": {},
   "cell_type": "markdown",
   "metadata": {},
   "source": [
    "### DV Auto-Cross D 6.5\n",
    "\n",
    "**D 6.5.1** 10 points are awarded to every team that finishes at least one run without DNF or DQ."
   ]
  },
  {
   "cell_type": "code",
   "execution_count": null,
   "metadata": {},
   "outputs": [],
   "source": [
    "# D 6.5.2 If a team’s T_team_total is below T_max\n",
    "from statistics import mean\n",
    "\n",
    "# --- INSERT HERE --- #\n",
    "T_team_1 = 0          # the team’s time including penalties of run 1\n",
    "T_team_2 = 0          # the team’s time including penalties of run 2\n",
    "T_max    = 0          # the time for driving the lap with 6m/s\n",
    "T_min    = 0          # the fastest T_team_total of all teams\n",
    "# For runs that are DNF or DQ and for runs with a T_team_i above T_max, T_team_i is set to T_max\n",
    "# ------------------- #\n",
    "\n",
    "T_team_total = min(T_team_1, mean([T_team_1, T_team_2]))\n",
    "\n",
    "if (T_team_total < T_max):\n",
    "    score = 90*((T_max - T_team_total)/(T_max - T_min)) + 10\n",
    "else:\n",
    "    score = 10\n",
    "print(score)"
   ]
  },
  {
   "attachments": {},
   "cell_type": "markdown",
   "metadata": {},
   "source": [
    "### DV Trackdrive D 8.4\n",
    "\n",
    "**D 8.4.1** Each lap of the trackdrive event is individually timed. The corrected elapsed time is determined by adding any penalty times."
   ]
  },
  {
   "cell_type": "code",
   "execution_count": null,
   "metadata": {},
   "outputs": [],
   "source": [
    "# D 8.4.2 If a team’s corrected elapsed time is below Tmax and the run was not DNF or DQ\n",
    "\n",
    "# --- INSERT HERE --- #\n",
    "T_team = 0            # the team’s corrected elapsed time\n",
    "T_max  = 0 * 2.0      # 2 times of the corrected elapsed time of the fastest vehicle \n",
    "# ------------------- #\n",
    "\n",
    "if (T_team < T_max):\n",
    "    score = 150*((t_max/T_team)-1)\n",
    "else:\n",
    "    score = 0\n",
    "print(score)"
   ]
  },
  {
   "attachments": {},
   "cell_type": "markdown",
   "metadata": {},
   "source": [
    "# Statics Calculators"
   ]
  },
  {
   "attachments": {},
   "cell_type": "markdown",
   "metadata": {},
   "source": [
    "## Business Plan"
   ]
  },
  {
   "cell_type": "code",
   "execution_count": null,
   "metadata": {},
   "outputs": [],
   "source": []
  },
  {
   "attachments": {},
   "cell_type": "markdown",
   "metadata": {},
   "source": [
    "## Cost and Manufacturing"
   ]
  },
  {
   "cell_type": "code",
   "execution_count": null,
   "metadata": {},
   "outputs": [],
   "source": []
  },
  {
   "attachments": {},
   "cell_type": "markdown",
   "metadata": {},
   "source": [
    "## Engineering Design "
   ]
  },
  {
   "cell_type": "code",
   "execution_count": null,
   "metadata": {},
   "outputs": [],
   "source": []
  }
 ],
 "metadata": {
  "kernelspec": {
   "display_name": "base",
   "language": "python",
   "name": "python3"
  },
  "language_info": {
   "codemirror_mode": {
    "name": "ipython",
    "version": 3
   },
   "file_extension": ".py",
   "mimetype": "text/x-python",
   "name": "python",
   "nbconvert_exporter": "python",
   "pygments_lexer": "ipython3",
   "version": "3.9.13"
  },
  "orig_nbformat": 4,
  "vscode": {
   "interpreter": {
    "hash": "58ed8a150d7d37ab663d3aba4c202cca1b056a70e46f6886df0072485b153cf5"
   }
  }
 },
 "nbformat": 4,
 "nbformat_minor": 2
}
